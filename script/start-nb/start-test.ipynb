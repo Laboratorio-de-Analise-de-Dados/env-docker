{
 "cells": [
  {
   "cell_type": "code",
   "execution_count": 1,
   "id": "e4509359-cfcf-4f44-83f3-a291072d0e2f",
   "metadata": {},
   "outputs": [],
   "source": [
    "import os\n",
    "from util import printLis"
   ]
  },
  {
   "cell_type": "code",
   "execution_count": 5,
   "id": "55b57606-ec8f-4654-be57-572bb3b24573",
   "metadata": {},
   "outputs": [
    {
     "name": "stdout",
     "output_type": "stream",
     "text": [
      "-------------\n",
      "-=< Lista >=-\n",
      "-------------\n",
      "0 -> start.py\n",
      "1 -> .ipynb_checkpoints\n"
     ]
    }
   ],
   "source": [
    "printLis(os.listdir(\"./../start-py\"))"
   ]
  },
  {
   "cell_type": "code",
   "execution_count": 6,
   "id": "92ed4cf3-e892-416b-9621-f53b383d55b3",
   "metadata": {},
   "outputs": [
    {
     "name": "stdout",
     "output_type": "stream",
     "text": [
      "Python 3.7.9\n"
     ]
    }
   ],
   "source": [
    "!python --version"
   ]
  },
  {
   "cell_type": "code",
   "execution_count": 7,
   "id": "ce57ecb7-605f-4c1e-9d00-a5b428deccd3",
   "metadata": {},
   "outputs": [
    {
     "name": "stdout",
     "output_type": "stream",
     "text": [
      "start.py\n"
     ]
    }
   ],
   "source": [
    "!ls ./../start-py/"
   ]
  },
  {
   "cell_type": "code",
   "execution_count": 10,
   "id": "75e5ba85-2db7-4937-869e-3b0d62f17f70",
   "metadata": {},
   "outputs": [
    {
     "name": "stdout",
     "output_type": "stream",
     "text": [
      "Fala Povo\n"
     ]
    }
   ],
   "source": [
    "!python ./../start-py/main.py"
   ]
  },
  {
   "cell_type": "code",
   "execution_count": null,
   "id": "7219962d-ec96-4b56-8c16-9d4e1498b3cc",
   "metadata": {},
   "outputs": [],
   "source": []
  }
 ],
 "metadata": {
  "kernelspec": {
   "display_name": "Python 3 (ipykernel)",
   "language": "python",
   "name": "python3"
  },
  "language_info": {
   "codemirror_mode": {
    "name": "ipython",
    "version": 3
   },
   "file_extension": ".py",
   "mimetype": "text/x-python",
   "name": "python",
   "nbconvert_exporter": "python",
   "pygments_lexer": "ipython3",
   "version": "3.7.9"
  }
 },
 "nbformat": 4,
 "nbformat_minor": 5
}
